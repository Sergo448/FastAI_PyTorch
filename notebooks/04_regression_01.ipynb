{
 "cells": [
  {
   "cell_type": "code",
   "execution_count": 1,
   "id": "f2285f21",
   "metadata": {},
   "outputs": [],
   "source": [
    "from fastai.vision.all import *\n",
    "from torch import nn\n",
    "import matplotlib.pyplot as plt\n",
    "import pandas as pd\n",
    "import numpy as np\n",
    "import torch"
   ]
  },
  {
   "cell_type": "code",
   "execution_count": 7,
   "id": "b6e8385c",
   "metadata": {},
   "outputs": [
    {
     "data": {
      "text/plain": [
       "True"
      ]
     },
     "execution_count": 7,
     "metadata": {},
     "output_type": "execute_result"
    }
   ],
   "source": [
    "torch.cuda.is_available()"
   ]
  },
  {
   "cell_type": "code",
   "execution_count": 2,
   "id": "f4149825",
   "metadata": {},
   "outputs": [
    {
     "data": {
      "text/html": [
       "\n",
       "<style>\n",
       "    /* Turns off some styling */\n",
       "    progress {\n",
       "        /* gets rid of default border in Firefox and Opera. */\n",
       "        border: none;\n",
       "        /* Needs to be in here for Safari polyfill so background images work as expected. */\n",
       "        background-size: auto;\n",
       "    }\n",
       "    progress:not([value]), progress:not([value])::-webkit-progress-bar {\n",
       "        background: repeating-linear-gradient(45deg, #7e7e7e, #7e7e7e 10px, #5c5c5c 10px, #5c5c5c 20px);\n",
       "    }\n",
       "    .progress-bar-interrupted, .progress-bar-interrupted::-webkit-progress-bar {\n",
       "        background: #F44336;\n",
       "    }\n",
       "</style>\n"
      ],
      "text/plain": [
       "<IPython.core.display.HTML object>"
      ]
     },
     "metadata": {},
     "output_type": "display_data"
    },
    {
     "data": {
      "text/html": [
       "\n",
       "    <div>\n",
       "      <progress value='452321280' class='' max='452316199' style='width:300px; height:20px; vertical-align: middle;'></progress>\n",
       "      100.00% [452321280/452316199 04:12&lt;00:00]\n",
       "    </div>\n",
       "    "
      ],
      "text/plain": [
       "<IPython.core.display.HTML object>"
      ]
     },
     "metadata": {},
     "output_type": "display_data"
    },
    {
     "data": {
      "text/plain": [
       "(#50) [Path('C:/Users/Сергей/.fastai/data/biwi_head_pose/01'),Path('C:/Users/Сергей/.fastai/data/biwi_head_pose/01.obj'),Path('C:/Users/Сергей/.fastai/data/biwi_head_pose/02'),Path('C:/Users/Сергей/.fastai/data/biwi_head_pose/02.obj'),Path('C:/Users/Сергей/.fastai/data/biwi_head_pose/03'),Path('C:/Users/Сергей/.fastai/data/biwi_head_pose/03.obj'),Path('C:/Users/Сергей/.fastai/data/biwi_head_pose/04'),Path('C:/Users/Сергей/.fastai/data/biwi_head_pose/04.obj'),Path('C:/Users/Сергей/.fastai/data/biwi_head_pose/05'),Path('C:/Users/Сергей/.fastai/data/biwi_head_pose/05.obj')...]"
      ]
     },
     "execution_count": 2,
     "metadata": {},
     "output_type": "execute_result"
    }
   ],
   "source": [
    "path = untar_data(URLs.BIWI_HEAD_POSE)\n",
    "path.ls()"
   ]
  },
  {
   "cell_type": "code",
   "execution_count": 3,
   "id": "7c5428dd",
   "metadata": {},
   "outputs": [
    {
     "data": {
      "text/plain": [
       "(#1000) [Path('C:/Users/Сергей/.fastai/data/biwi_head_pose/01/depth.cal'),Path('C:/Users/Сергей/.fastai/data/biwi_head_pose/01/frame_00003_pose.txt'),Path('C:/Users/Сергей/.fastai/data/biwi_head_pose/01/frame_00003_rgb.jpg'),Path('C:/Users/Сергей/.fastai/data/biwi_head_pose/01/frame_00004_pose.txt'),Path('C:/Users/Сергей/.fastai/data/biwi_head_pose/01/frame_00004_rgb.jpg'),Path('C:/Users/Сергей/.fastai/data/biwi_head_pose/01/frame_00005_pose.txt'),Path('C:/Users/Сергей/.fastai/data/biwi_head_pose/01/frame_00005_rgb.jpg'),Path('C:/Users/Сергей/.fastai/data/biwi_head_pose/01/frame_00006_pose.txt'),Path('C:/Users/Сергей/.fastai/data/biwi_head_pose/01/frame_00006_rgb.jpg'),Path('C:/Users/Сергей/.fastai/data/biwi_head_pose/01/frame_00007_pose.txt')...]"
      ]
     },
     "execution_count": 3,
     "metadata": {},
     "output_type": "execute_result"
    }
   ],
   "source": [
    "(path/'01').ls()"
   ]
  },
  {
   "cell_type": "code",
   "execution_count": 4,
   "id": "c0296929",
   "metadata": {},
   "outputs": [
    {
     "data": {
      "text/plain": [
       "Path('C:/Users/Сергей/.fastai/data/biwi_head_pose/01/frame_00003_pose.txt')"
      ]
     },
     "execution_count": 4,
     "metadata": {},
     "output_type": "execute_result"
    }
   ],
   "source": [
    "img_files = get_image_files(path)\n",
    "def img2pose(x): return Path(f'{str(x)[:-7]}pose.txt')\n",
    "\n",
    "img2pose(img_files[0])"
   ]
  },
  {
   "cell_type": "code",
   "execution_count": 5,
   "id": "5f3a49ab",
   "metadata": {},
   "outputs": [
    {
     "data": {
      "text/plain": [
       "(480, 640)"
      ]
     },
     "execution_count": 5,
     "metadata": {},
     "output_type": "execute_result"
    }
   ],
   "source": [
    "im = PILImage.create(img_files[0])\n",
    "im.shape"
   ]
  },
  {
   "cell_type": "code",
   "execution_count": 6,
   "id": "dca65a45",
   "metadata": {},
   "outputs": [
    {
     "data": {
      "image/png": "[encoded data removed]",
      "text/plain": [
       "<PIL.Image.Image image mode=RGB size=160x120>"
      ]
     },
     "execution_count": 6,
     "metadata": {},
     "output_type": "execute_result"
    }
   ],
   "source": [
    "im.to_thumb(160)"
   ]
  },
  {
   "cell_type": "code",
   "execution_count": 12,
   "id": "7b018477",
   "metadata": {},
   "outputs": [],
   "source": [
    "cal = np.genfromtxt(path/'01'/'rgb.cal', skip_footer=6)\n",
    "\n",
    "def get_ctr(f):\n",
    "    ctr = np.genfromtxt(img2pose(f), skip_header=3)\n",
    "    c1 = ctr[0] * cal[0][0] / ctr[2] + cal[0][2]\n",
    "    c2 = ctr[1] * cal[1][1] / ctr[2] + cal[1][2]\n",
    "    return tensor([c1,c2])"
   ]
  },
  {
   "cell_type": "code",
   "execution_count": 13,
   "id": "e8d67f1e",
   "metadata": {},
   "outputs": [
    {
     "data": {
      "text/plain": [
       "tensor([350.4915, 262.9643])"
      ]
     },
     "execution_count": 13,
     "metadata": {},
     "output_type": "execute_result"
    }
   ],
   "source": [
    "get_ctr(img_files[0])"
   ]
  },
  {
   "cell_type": "code",
   "execution_count": null,
   "id": "3486f35c",
   "metadata": {},
   "outputs": [],
   "source": []
  }
 ],
 "metadata": {
  "kernelspec": {
   "display_name": "Python 3 (ipykernel)",
   "language": "python",
   "name": "python3"
  },
  "language_info": {
   "codemirror_mode": {
    "name": "ipython",
    "version": 3
   },
   "file_extension": ".py",
   "mimetype": "text/x-python",
   "name": "python",
   "nbconvert_exporter": "python",
   "pygments_lexer": "ipython3",
   "version": "3.9.13"
  }
 },
 "nbformat": 4,
 "nbformat_minor": 5
}
